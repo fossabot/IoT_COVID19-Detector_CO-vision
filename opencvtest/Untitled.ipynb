{
 "cells": [
  {
   "cell_type": "code",
   "execution_count": 4,
   "metadata": {},
   "outputs": [],
   "source": [
    "#https://www.youtube.com/watch?v=rNxMwtottmM\n",
    "from PIL import Image\n",
    "import pytesseract"

   ]
  },
  {
   "cell_type": "code",
   "execution_count": 10,
   "metadata": {
    "scrolled": true
   },
   "outputs": [
    {
     "name": "stdout",
     "output_type": "stream",
     "text": [
      "#파이썬 화30000 #0대!\n",
      "파이썬 000101 코딩-166586000[ 007 미미지에서 텍스트 추출\n",
      "\n",
      "조회수 1107회 ㆍ2020.7. 28.\n",
      "\n",
      "을 ㅣ 나이스코딩\n",
      "\\ > 구독자 2.29전명\n",
      "\n",
      "1655618다패키지를 사용해서 이미지에서 텍스트(한글)를 쉽게 추줄:\n",
      "\n",
      "할\n",
      "\n",
      "슬니다\n",
      "\f",
      "\n",
      "#파이썬화30000#0대!\n",
      "파이썬000101코딩-166586000[007미미지에서텍스트추출\n",
      "\n",
      "조회수1107회ㆍ2020.7.28.\n",
      "\n",
      "을ㅣ나이스코딩\n",
      "\\>구독자2.29전명\n",
      "\n",
      "1655618다패키지를사용해서이미지에서텍스트(한글)를쉽게추줄:\n",
      "\n",
      "할\n",
      "\n",
      "슬니다\n",
      "\f",
      "\n"
     ]
    }
   ],
   "source": [
    "pytesseract.pytesseract.tesseract_cmd = r'C:\\Users\\CKIRUser\\AppData\\Local\\Tesseract-OCR\\tesseract.exe'\n",
    "text = pytesseract.image_to_string(Image.open(\"kor.png\"),lang =\"kor\")\n",
    "\n",
    "print(text)"
   ]
  },
  {
   "cell_type": "code",
   "execution_count": 27,
   "metadata": {},
   "outputs": [
    {
     "name": "stdout",
     "output_type": "stream",
     "text": [
      "\f",
      "\n"
     ]
    }
   ],
   "source": [
    "pytesseract.pytesseract.tesseract_cmd = r'C:\\Users\\CKIRUser\\AppData\\Local\\Tesseract-OCR\\tesseract.exe'\n",
    "text = pytesseract.image_to_string(Image.open(\"jun_name8.png\"),lang =\"kor\")\n",
    "\n",
    "print(text)"
   ]
  },
  {
   "cell_type": "code",
   "execution_count": null,
   "metadata": {},
   "outputs": [],
   "source": []
  }
 ],
 "metadata": {
  "kernelspec": {
   "display_name": "Python 3",
   "language": "python",
   "name": "python3"
  },
  "language_info": {
   "codemirror_mode": {
    "name": "ipython",
    "version": 3
   },
   "file_extension": ".py",
   "mimetype": "text/x-python",
   "name": "python",
   "nbconvert_exporter": "python",
   "pygments_lexer": "ipython3",
   "version": "3.8.5"
  }
 },
 "nbformat": 4,
 "nbformat_minor": 4
}
